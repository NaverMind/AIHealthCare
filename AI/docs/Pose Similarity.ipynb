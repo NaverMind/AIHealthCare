{
 "cells": [
  {
   "cell_type": "code",
   "execution_count": 1,
   "id": "604b332f",
   "metadata": {},
   "outputs": [],
   "source": [
    "pose_vector1 = [240, 30, 40, 532, 194, 329] #(x,y,x,y,...) : model output image keypoints set\n",
    "pose_vector2 = [250, 40, 50, 542, 204, 339] #(x,y,x,y,...) : 정자세 image keypoints set"
   ]
  },
  {
   "cell_type": "markdown",
   "id": "2c8c99a9",
   "metadata": {},
   "source": [
    "### 두 이미지를 고정된 크기로 resize 및 normalization"
   ]
  },
  {
   "cell_type": "code",
   "execution_count": 2,
   "id": "94edba07",
   "metadata": {},
   "outputs": [],
   "source": [
    "def img_resize(pose_vector):\n",
    "    x_max = 0\n",
    "    y_max = 0\n",
    "    x_min = 100000\n",
    "    y_min = 100000\n",
    "    for i in range(len(pose_vector)):\n",
    "        if i%2==0: #x 좌표\n",
    "            if x_max<pose_vector[i]:\n",
    "                x_max = pose_vector[i]\n",
    "            if x_min>pose_vector[i]:\n",
    "                x_min = pose_vector[i]\n",
    "        else:\n",
    "            if y_max<pose_vector[i]:\n",
    "                y_max = pose_vector[i]\n",
    "            if y_min>pose_vector[i]:\n",
    "                y_min = pose_vector[i]\n",
    "\n",
    "    for i in range(len(pose_vector)):\n",
    "        if i%2==0: #x 좌표\n",
    "            pose_vector[i] -= x_min\n",
    "        else:\n",
    "            pose_vector[i] -= y_min\n",
    "        print(pose_vector[i])\n",
    "    \n",
    "    for i in range(len(pose_vector)):\n",
    "        if i%2==0: #x 좌표\n",
    "            if x_max<pose_vector[i]:\n",
    "                x_max = pose_vector[i]\n",
    "            if x_min>pose_vector[i]:\n",
    "                x_min = pose_vector[i]\n",
    "        else:\n",
    "            if y_max<pose_vector[i]:\n",
    "                y_max = pose_vector[i]\n",
    "            if y_min>pose_vector[i]:\n",
    "                y_min = pose_vector[i]\n",
    "                \n",
    "    img_width = x_max-x_min\n",
    "    img_height = y_max-y_min\n",
    "    \n",
    "    real_width =200\n",
    "    real_height = 400\n",
    "    \n",
    "    wid_portion = real_width/img_width\n",
    "    hei_portion = real_height/img_height\n",
    "    \n",
    "    print(\"widht:\",img_width)\n",
    "    print(\"height:\",img_height)\n",
    "    for i in range(len(pose_vector)):\n",
    "        if i%2 == 0:\n",
    "            pose_vector[i]=pose_vector[i]*hei_portion\n",
    "        else:\n",
    "            pose_vector[i]=pose_vector[i]*wid_portion\n",
    "    \n",
    "    return pose_vector"
   ]
  },
  {
   "cell_type": "code",
   "execution_count": 3,
   "id": "37c491ae",
   "metadata": {},
   "outputs": [
    {
     "name": "stdout",
     "output_type": "stream",
     "text": [
      "200\n",
      "0\n",
      "0\n",
      "502\n",
      "154\n",
      "299\n",
      "widht: 240\n",
      "height: 532\n",
      "200\n",
      "0\n",
      "0\n",
      "502\n",
      "154\n",
      "299\n",
      "widht: 250\n",
      "height: 542\n"
     ]
    }
   ],
   "source": [
    "pose_vector1 = img_resize(pose_vector1)\n",
    "pose_vector2 = img_resize(pose_vector2)"
   ]
  },
  {
   "cell_type": "markdown",
   "id": "dc699bc4",
   "metadata": {},
   "source": [
    "### 0~1 사이로 정규화(필요에 의해 사용)"
   ]
  },
  {
   "cell_type": "code",
   "execution_count": 4,
   "id": "d797a954",
   "metadata": {},
   "outputs": [],
   "source": [
    "def normalization(x):\n",
    "    min_value = min(x)\n",
    "    max_value = max(x) \n",
    "\n",
    "    return list(map(lambda x: (x-min_value)/(max_value-min_value), x))"
   ]
  },
  {
   "cell_type": "code",
   "execution_count": 5,
   "id": "9388d0d8",
   "metadata": {},
   "outputs": [],
   "source": [
    "nor1 = normalization(pose_vector1)\n",
    "nor2 = normalization(pose_vector2)"
   ]
  },
  {
   "cell_type": "markdown",
   "id": "e096deae",
   "metadata": {},
   "source": [
    "### Similarity 측정"
   ]
  },
  {
   "cell_type": "code",
   "execution_count": 6,
   "id": "0f79601f",
   "metadata": {},
   "outputs": [
    {
     "name": "stdout",
     "output_type": "stream",
     "text": [
      "5.268466831284852\n"
     ]
    }
   ],
   "source": [
    "import math\n",
    "def weightedDistanceMatching(poseVector1, poseVector2, score):\n",
    "    # test coordinate\n",
    "    vector1PoseXY = poseVector1\n",
    "    vector1Confidences = score\n",
    "    \n",
    "    # test threshold score sum\n",
    "    vector1ConfidenceSum = sum(vector1Confidences)\n",
    "    \n",
    "    # train coordinate\n",
    "    vector2PoseXY = poseVector2\n",
    "\n",
    "    summation1 = 1 / vector1ConfidenceSum\n",
    "    summation2 = 0\n",
    "    \n",
    "    count = 0\n",
    "    for i in range(len(vector1PoseXY)):\n",
    "        count += 1\n",
    "        tempConf = math.floor(i / 2)\n",
    "        # multiplying each joint's reliability and distance\n",
    "        tempSum = vector1Confidences[tempConf] * abs(vector1PoseXY[i] - vector2PoseXY[i])\n",
    "        # Add joint distance by joint count\n",
    "        summation2 = summation2 + tempSum\n",
    "    \n",
    "    # WeightedDistance\n",
    "    summation = summation1 * summation2\n",
    "    summation = summation\n",
    "    \n",
    "    return summation\n",
    "\n",
    "score = [1,1,1,1,1,1]\n",
    "res = weightedDistanceMatching(pose_vector1,pose_vector2,score)\n",
    "\n",
    "print(res)"
   ]
  },
  {
   "cell_type": "code",
   "execution_count": 7,
   "id": "9e762cfc",
   "metadata": {},
   "outputs": [],
   "source": [
    "ans = weightedDistanceMatching(nor1,nor2,score)"
   ]
  },
  {
   "cell_type": "markdown",
   "id": "188ab39e",
   "metadata": {},
   "source": [
    "### 각도값 측정"
   ]
  },
  {
   "cell_type": "code",
   "execution_count": 8,
   "id": "aac2d301",
   "metadata": {},
   "outputs": [],
   "source": [
    "import numpy as np\n",
    "def get_angle(p1 : list, p2 : list ,p3 : list, angle_vec : bool) -> float:\n",
    "    rad = np.arctan2(p3[1] - p1[1], p3[0] - p1[0]) - np.arctan2(p2[1] - p1[1], p2[0] - p1[0])\n",
    "    deg = rad * (180 / np.pi)\n",
    "    if angle_vec:\n",
    "        deg = 360-abs(deg)\n",
    "    return abs(deg)\n"
   ]
  },
  {
   "cell_type": "code",
   "execution_count": 9,
   "id": "c734b169",
   "metadata": {},
   "outputs": [],
   "source": [
    "ret1 = get_angle(pose_vector1[:2],pose_vector1[2:4],pose_vector1[4:6],False)\n",
    "ret2 = get_angle(pose_vector2[:2],pose_vector2[2:4],pose_vector2[4:6],False)"
   ]
  },
  {
   "cell_type": "markdown",
   "id": "9a08c295",
   "metadata": {},
   "source": [
    "### 위에서 나온 각각의 값을 일정 %로 이용하여 조합한 뒤 총 결과치 측정하면 됨"
   ]
  },
  {
   "cell_type": "code",
   "execution_count": null,
   "id": "b46f9ec9",
   "metadata": {},
   "outputs": [],
   "source": []
  }
 ],
 "metadata": {
  "kernelspec": {
   "display_name": "Python 3",
   "language": "python",
   "name": "python3"
  },
  "language_info": {
   "codemirror_mode": {
    "name": "ipython",
    "version": 3
   },
   "file_extension": ".py",
   "mimetype": "text/x-python",
   "name": "python",
   "nbconvert_exporter": "python",
   "pygments_lexer": "ipython3",
   "version": "3.8.8"
  }
 },
 "nbformat": 4,
 "nbformat_minor": 5
}
